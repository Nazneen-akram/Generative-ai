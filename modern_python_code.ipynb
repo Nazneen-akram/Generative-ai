{
  "nbformat": 4,
  "nbformat_minor": 0,
  "metadata": {
    "colab": {
      "provenance": [],
      "authorship_tag": "ABX9TyNWNBF+D+c8DFq3ZkBRJx9i",
      "include_colab_link": true
    },
    "kernelspec": {
      "name": "python3",
      "display_name": "Python 3"
    },
    "language_info": {
      "name": "python"
    }
  },
  "cells": [
    {
      "cell_type": "markdown",
      "metadata": {
        "id": "view-in-github",
        "colab_type": "text"
      },
      "source": [
        "<a href=\"https://colab.research.google.com/github/Nazneen-akram/Generative-ai/blob/main/modern_python_code.ipynb\" target=\"_parent\"><img src=\"https://colab.research.google.com/assets/colab-badge.svg\" alt=\"Open In Colab\"/></a>"
      ]
    },
    {
      "cell_type": "code",
      "execution_count": 1,
      "metadata": {
        "colab": {
          "base_uri": "https://localhost:8080/"
        },
        "id": "gr4CArxhhMqU",
        "outputId": "3d348da4-5baf-4505-afe3-08beb567030e"
      },
      "outputs": [
        {
          "output_type": "stream",
          "name": "stdout",
          "text": [
            "Hello, Nazneen Akram!\n"
          ]
        }
      ],
      "source": [
        "first_name:str = \"nazneen\"\n",
        "last_name:str = \"akram\"\n",
        "full_name:str = f\"{first_name} {last_name}\"\n",
        "print(f\"Hello, {full_name.title()}!\")"
      ]
    },
    {
      "cell_type": "code",
      "source": [],
      "metadata": {
        "id": "4clpsdhZhdu6"
      },
      "execution_count": null,
      "outputs": []
    }
  ]
}