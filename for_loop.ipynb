{
  "nbformat": 4,
  "nbformat_minor": 0,
  "metadata": {
    "colab": {
      "provenance": [],
      "authorship_tag": "ABX9TyPMjuGFW5DAlQASH3IjZ65M",
      "include_colab_link": true
    },
    "kernelspec": {
      "name": "python3",
      "display_name": "Python 3"
    },
    "language_info": {
      "name": "python"
    }
  },
  "cells": [
    {
      "cell_type": "markdown",
      "metadata": {
        "id": "view-in-github",
        "colab_type": "text"
      },
      "source": [
        "<a href=\"https://colab.research.google.com/github/Nazneen-akram/Generative-ai/blob/main/for_loop.ipynb\" target=\"_parent\"><img src=\"https://colab.research.google.com/assets/colab-badge.svg\" alt=\"Open In Colab\"/></a>"
      ]
    },
    {
      "cell_type": "code",
      "execution_count": 5,
      "metadata": {
        "colab": {
          "base_uri": "https://localhost:8080/"
        },
        "id": "9tRgv8BBO2fY",
        "outputId": "10746e85-40bc-4ec6-b92e-af33d507e8a7"
      },
      "outputs": [
        {
          "output_type": "stream",
          "name": "stdout",
          "text": [
            "Found: Bob in records and age is 25\n"
          ]
        }
      ],
      "source": [
        "# Example: Finding a specific dictionary in a list of dictionaries by a key-value pair\n",
        "list_of_dicts = [\n",
        "    {'name': 'Alice', 'age': 30},\n",
        "    {'name': 'Bob', 'age': 25},\n",
        "    {'name': 'Charlie', 'age': 35}\n",
        "]\n",
        "\n",
        "# Target name to search for\n",
        "target_name = 'Bob'\n",
        "\n",
        "# Using a for-each loop to find the dictionary\n",
        "for person in list_of_dicts:\n",
        "    if person['name'] == target_name:\n",
        "        print(f\"Found: {person['name']} in records and age is {person['age']}\")\n",
        "        break  # Exit the loop once the target is found\n",
        "else:\n",
        "    print(\"Target not found.\")"
      ]
    },
    {
      "cell_type": "code",
      "source": [
        "from itertools import accumulate\n",
        "a = [3, 4, 6, 2, 1, 9, 0, 7, 5, 8]\n",
        "results = list(accumulate(a, max))"
      ],
      "metadata": {
        "id": "FcxWTgteO_8F"
      },
      "execution_count": 6,
      "outputs": []
    },
    {
      "cell_type": "code",
      "source": [
        "results"
      ],
      "metadata": {
        "colab": {
          "base_uri": "https://localhost:8080/"
        },
        "id": "UoalPG_rPvw_",
        "outputId": "9bc1dc3d-6726-4c78-8eca-46ad0a03524f"
      },
      "execution_count": 7,
      "outputs": [
        {
          "output_type": "execute_result",
          "data": {
            "text/plain": [
              "[3, 4, 6, 6, 6, 9, 9, 9, 9, 9]"
            ]
          },
          "metadata": {},
          "execution_count": 7
        }
      ]
    },
    {
      "cell_type": "code",
      "source": [],
      "metadata": {
        "id": "TX1mFHV7PxfY"
      },
      "execution_count": null,
      "outputs": []
    }
  ]
}