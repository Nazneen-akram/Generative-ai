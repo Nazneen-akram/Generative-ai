{
  "nbformat": 4,
  "nbformat_minor": 0,
  "metadata": {
    "colab": {
      "provenance": [],
      "authorship_tag": "ABX9TyN6JsJEojUdYDhTIireiXQy",
      "include_colab_link": true
    },
    "kernelspec": {
      "name": "python3",
      "display_name": "Python 3"
    },
    "language_info": {
      "name": "python"
    }
  },
  "cells": [
    {
      "cell_type": "markdown",
      "metadata": {
        "id": "view-in-github",
        "colab_type": "text"
      },
      "source": [
        "<a href=\"https://colab.research.google.com/github/Nazneen-akram/Generative-ai/blob/main/Pillow_library_code.ipynb\" target=\"_parent\"><img src=\"https://colab.research.google.com/assets/colab-badge.svg\" alt=\"Open In Colab\"/></a>"
      ]
    },
    {
      "cell_type": "code",
      "source": [
        "pip install Pillow"
      ],
      "metadata": {
        "colab": {
          "base_uri": "https://localhost:8080/"
        },
        "id": "w3-tcSLPRtZQ",
        "outputId": "faff057b-b8f7-43b8-8022-2a94ea73c129"
      },
      "execution_count": 4,
      "outputs": [
        {
          "output_type": "stream",
          "name": "stdout",
          "text": [
            "Requirement already satisfied: Pillow in /usr/local/lib/python3.10/dist-packages (9.4.0)\n"
          ]
        }
      ]
    },
    {
      "cell_type": "code",
      "execution_count": 5,
      "metadata": {
        "id": "2qb0BDoARWWr"
      },
      "outputs": [],
      "source": [
        "from PIL import Image\n",
        "\n",
        "# Open an image file\n",
        "img = Image.open(\"/content/bg-image4x6.jpg\")\n",
        "\n",
        "# Display the image\n",
        "img.show()\n"
      ]
    },
    {
      "cell_type": "markdown",
      "source": [
        "##Resizing an Image:"
      ],
      "metadata": {
        "id": "MTgkcD7SR496"
      }
    },
    {
      "cell_type": "code",
      "source": [
        "# Resize the image to 200x200 pixels\n",
        "resized_img = img.resize((200, 200))\n",
        "\n",
        "# Save the resized image\n",
        "resized_img.save(\"resized_example.jpg\")\n"
      ],
      "metadata": {
        "id": "vJ_IZq3oRXIO"
      },
      "execution_count": 6,
      "outputs": []
    },
    {
      "cell_type": "markdown",
      "source": [
        "##Rotating an Image:"
      ],
      "metadata": {
        "id": "t2byiYM_R8Ak"
      }
    },
    {
      "cell_type": "code",
      "source": [
        "\n",
        "# Rotate the image by 90 degrees clockwise\n",
        "rotated_img = img.rotate(90)\n",
        "\n",
        "# Save the rotated image\n",
        "rotated_img.save(\"rotated_example.jpg\")\n"
      ],
      "metadata": {
        "id": "QltKg5fbRrzo"
      },
      "execution_count": 7,
      "outputs": []
    },
    {
      "cell_type": "code",
      "source": [
        "# Display the rotated image\n",
        "rotated_img.show()"
      ],
      "metadata": {
        "id": "BA2PmVi6SDHb"
      },
      "execution_count": 8,
      "outputs": []
    },
    {
      "cell_type": "markdown",
      "source": [
        "##Converting Image Format:"
      ],
      "metadata": {
        "id": "X9htDAE2ScyB"
      }
    },
    {
      "cell_type": "code",
      "source": [
        "# Convert the image to JPEG format\n",
        "img_jpeg = img.convert(\"RGB\")\n",
        "\n",
        "# Save the image in JPEG format\n",
        "img_jpeg.save(\"image-format.jpg\")\n"
      ],
      "metadata": {
        "id": "dX3-D3ckSP63"
      },
      "execution_count": 9,
      "outputs": []
    },
    {
      "cell_type": "markdown",
      "source": [
        "##Applying Filters:"
      ],
      "metadata": {
        "id": "AGOJmN_fSlfd"
      }
    },
    {
      "cell_type": "code",
      "source": [
        "from PIL import Image, ImageFilter\n",
        "\n",
        "# Apply a Gaussian blur filter\n",
        "blurred_img = img.filter(ImageFilter.GaussianBlur(5))\n",
        "\n",
        "# Save the blurred image\n",
        "blurred_img.save(\"blurred_example.jpg\")\n"
      ],
      "metadata": {
        "id": "iNJCrX-SSnX8"
      },
      "execution_count": 11,
      "outputs": []
    },
    {
      "cell_type": "code",
      "source": [],
      "metadata": {
        "id": "bE5GhGWJStdM"
      },
      "execution_count": null,
      "outputs": []
    }
  ]
}