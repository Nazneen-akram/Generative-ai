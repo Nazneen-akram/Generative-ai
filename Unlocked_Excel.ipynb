{
  "nbformat": 4,
  "nbformat_minor": 0,
  "metadata": {
    "colab": {
      "provenance": [],
      "authorship_tag": "ABX9TyNmq4IJMnVGzpmVTZ0s2dYc",
      "include_colab_link": true
    },
    "kernelspec": {
      "name": "python3",
      "display_name": "Python 3"
    },
    "language_info": {
      "name": "python"
    }
  },
  "cells": [
    {
      "cell_type": "markdown",
      "metadata": {
        "id": "view-in-github",
        "colab_type": "text"
      },
      "source": [
        "<a href=\"https://colab.research.google.com/github/Nazneen-akram/Generative-ai/blob/main/Unlocked_Excel.ipynb\" target=\"_parent\"><img src=\"https://colab.research.google.com/assets/colab-badge.svg\" alt=\"Open In Colab\"/></a>"
      ]
    },
    {
      "cell_type": "code",
      "execution_count": 1,
      "metadata": {
        "id": "eiD3J_b_i7PS"
      },
      "outputs": [],
      "source": [
        "import openpyxl"
      ]
    },
    {
      "cell_type": "code",
      "source": [
        "\n",
        "# Load the workbook\n",
        "wb_path = '/content/BancaTakaful Endowment Plan_Illustrationv9.7-locked version-final 26-Jan-24.xlsm'\n",
        "wb = openpyxl.load_workbook(wb_path, keep_vba=True)\n"
      ],
      "metadata": {
        "id": "QutPE0IljOZ5"
      },
      "execution_count": 3,
      "outputs": []
    },
    {
      "cell_type": "code",
      "source": [
        "hidden_sheets = [sheet.title for sheet in wb.worksheets if sheet.sheet_state == 'hidden']\n"
      ],
      "metadata": {
        "id": "FrviV3VsXFrb"
      },
      "execution_count": 5,
      "outputs": []
    },
    {
      "cell_type": "code",
      "source": [
        "# Unhide sheets if there are any hidden\n",
        "if hidden_sheets:\n",
        "    for sheet_title in hidden_sheets:\n",
        "        wb[sheet_title].sheet_state = 'visible'\n"
      ],
      "metadata": {
        "id": "0QinA4X-jhLh"
      },
      "execution_count": 6,
      "outputs": []
    },
    {
      "cell_type": "code",
      "source": [
        "# Save the modified workbook to a new file\n",
        "new_wb_path = '/content/BancaTakaful_Endowment_Plan_Illustrationv9.7_unlocked.xlsm'\n",
        "wb.save(new_wb_path)"
      ],
      "metadata": {
        "id": "_V_YLiMiXOe-"
      },
      "execution_count": 8,
      "outputs": []
    },
    {
      "cell_type": "code",
      "source": [
        "# Return the count and the titles of sheets that were hidden and are now set to visible\n",
        "print(len(hidden_sheets), \"sheets have been UNLOCKED!\")"
      ],
      "metadata": {
        "colab": {
          "base_uri": "https://localhost:8080/"
        },
        "id": "vGcGm01_Xwj6",
        "outputId": "0fbbd518-52f7-4295-d493-5ff2456c0312"
      },
      "execution_count": 10,
      "outputs": [
        {
          "output_type": "stream",
          "name": "stdout",
          "text": [
            "21 sheets have been UNLOCKED!\n"
          ]
        }
      ]
    },
    {
      "cell_type": "code",
      "source": [
        "print(hidden_sheets)"
      ],
      "metadata": {
        "colab": {
          "base_uri": "https://localhost:8080/"
        },
        "id": "up42cWTiXxOn",
        "outputId": "989e4cef-f4d0-48c2-ca55-bfcaa6e73efc"
      },
      "execution_count": 11,
      "outputs": [
        {
          "output_type": "stream",
          "name": "stdout",
          "text": [
            "['Illustration Takaful', 'Illustration Takaful (Urdu)', 'Illustration (Urdu)', 'Illustration', 'Formula', 'Formula2', 'Plans', 'RateTable', 'Rider', 'Bonus03', 'Sheet1', 'Endo', 'bdfactor Endo', 'SVSA T19', 'BD Factor T19', 'SV T05', 'Sheet2', 'Mortality-Rate', 'Cont Rates', 'SLIC01-05 (for SV)', 'TTR rates']\n"
          ]
        }
      ]
    }
  ]
}